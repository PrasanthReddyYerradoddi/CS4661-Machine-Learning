{
 "cells": [
  {
   "cell_type": "code",
   "execution_count": 67,
   "metadata": {
    "collapsed": true
   },
   "outputs": [],
   "source": [
    "# Pandas is a powerful library to read and process data tables\n",
    "import numpy as np\n",
    "# it means that we can use abbreviation \"np\" from now on to refer to numpy functions \n",
    "import pandas as pd"
   ]
  },
  {
   "cell_type": "code",
   "execution_count": 68,
   "metadata": {
    "collapsed": true
   },
   "outputs": [],
   "source": [
    "# The following line will import LogisticRegression and DecisionTreeClassifier Classes\n",
    "# \"LogisticRegression\" and \"DecisionTreeClassifier\" are the names of a \"sklearn classes\" to perform Logistic Regression and Decision Tree based Classification \n",
    "from sklearn.linear_model import LogisticRegression\n",
    "from sklearn.tree import DecisionTreeClassifier\n",
    "from sklearn.linear_model import LinearRegression"
   ]
  },
  {
   "cell_type": "code",
   "execution_count": 69,
   "metadata": {
    "collapsed": true
   },
   "outputs": [],
   "source": [
    "# loading a CSV file from local device and store it in a pandas DataFrame:\n",
    "# \"read_csv\" is a pandas function to read csv files from web or local device:\n",
    "df= pd.DataFrame()\n",
    "\n",
    "df = pd.read_csv('https://raw.githubusercontent.com/PrasanthReddyYerradoddi/Machine-Learning/master/train.csv')"
   ]
  },
  {
   "cell_type": "code",
   "execution_count": 70,
   "metadata": {
    "collapsed": false
   },
   "outputs": [
    {
     "data": {
      "text/html": [
       "<div>\n",
       "<table border=\"1\" class=\"dataframe\">\n",
       "  <thead>\n",
       "    <tr style=\"text-align: right;\">\n",
       "      <th></th>\n",
       "      <th>S1</th>\n",
       "      <th>C1</th>\n",
       "      <th>S2</th>\n",
       "      <th>C2</th>\n",
       "      <th>S3</th>\n",
       "      <th>C3</th>\n",
       "      <th>S4</th>\n",
       "      <th>C4</th>\n",
       "      <th>S5</th>\n",
       "      <th>C5</th>\n",
       "      <th>hand</th>\n",
       "    </tr>\n",
       "  </thead>\n",
       "  <tbody>\n",
       "    <tr>\n",
       "      <th>0</th>\n",
       "      <td>4</td>\n",
       "      <td>9</td>\n",
       "      <td>2</td>\n",
       "      <td>1</td>\n",
       "      <td>2</td>\n",
       "      <td>2</td>\n",
       "      <td>4</td>\n",
       "      <td>7</td>\n",
       "      <td>2</td>\n",
       "      <td>8</td>\n",
       "      <td>0</td>\n",
       "    </tr>\n",
       "    <tr>\n",
       "      <th>1</th>\n",
       "      <td>1</td>\n",
       "      <td>4</td>\n",
       "      <td>3</td>\n",
       "      <td>6</td>\n",
       "      <td>1</td>\n",
       "      <td>12</td>\n",
       "      <td>3</td>\n",
       "      <td>11</td>\n",
       "      <td>2</td>\n",
       "      <td>7</td>\n",
       "      <td>0</td>\n",
       "    </tr>\n",
       "    <tr>\n",
       "      <th>2</th>\n",
       "      <td>1</td>\n",
       "      <td>11</td>\n",
       "      <td>4</td>\n",
       "      <td>1</td>\n",
       "      <td>3</td>\n",
       "      <td>7</td>\n",
       "      <td>4</td>\n",
       "      <td>11</td>\n",
       "      <td>2</td>\n",
       "      <td>1</td>\n",
       "      <td>2</td>\n",
       "    </tr>\n",
       "    <tr>\n",
       "      <th>3</th>\n",
       "      <td>2</td>\n",
       "      <td>9</td>\n",
       "      <td>2</td>\n",
       "      <td>4</td>\n",
       "      <td>3</td>\n",
       "      <td>6</td>\n",
       "      <td>1</td>\n",
       "      <td>9</td>\n",
       "      <td>4</td>\n",
       "      <td>9</td>\n",
       "      <td>3</td>\n",
       "    </tr>\n",
       "    <tr>\n",
       "      <th>4</th>\n",
       "      <td>1</td>\n",
       "      <td>8</td>\n",
       "      <td>2</td>\n",
       "      <td>4</td>\n",
       "      <td>2</td>\n",
       "      <td>11</td>\n",
       "      <td>2</td>\n",
       "      <td>2</td>\n",
       "      <td>2</td>\n",
       "      <td>1</td>\n",
       "      <td>0</td>\n",
       "    </tr>\n",
       "  </tbody>\n",
       "</table>\n",
       "</div>"
      ],
      "text/plain": [
       "   S1  C1  S2  C2  S3  C3  S4  C4  S5  C5  hand\n",
       "0   4   9   2   1   2   2   4   7   2   8     0\n",
       "1   1   4   3   6   1  12   3  11   2   7     0\n",
       "2   1  11   4   1   3   7   4  11   2   1     2\n",
       "3   2   9   2   4   3   6   1   9   4   9     3\n",
       "4   1   8   2   4   2  11   2   2   2   1     0"
      ]
     },
     "execution_count": 70,
     "metadata": {},
     "output_type": "execute_result"
    }
   ],
   "source": [
    "df.head()"
   ]
  },
  {
   "cell_type": "code",
   "execution_count": 71,
   "metadata": {
    "collapsed": false
   },
   "outputs": [
    {
     "data": {
      "text/html": [
       "<div>\n",
       "<table border=\"1\" class=\"dataframe\">\n",
       "  <thead>\n",
       "    <tr style=\"text-align: right;\">\n",
       "      <th></th>\n",
       "      <th>C1</th>\n",
       "      <th>C2</th>\n",
       "      <th>C3</th>\n",
       "      <th>C4</th>\n",
       "      <th>C5</th>\n",
       "    </tr>\n",
       "  </thead>\n",
       "  <tbody>\n",
       "    <tr>\n",
       "      <th>0</th>\n",
       "      <td>9</td>\n",
       "      <td>1</td>\n",
       "      <td>2</td>\n",
       "      <td>7</td>\n",
       "      <td>8</td>\n",
       "    </tr>\n",
       "    <tr>\n",
       "      <th>1</th>\n",
       "      <td>4</td>\n",
       "      <td>6</td>\n",
       "      <td>12</td>\n",
       "      <td>11</td>\n",
       "      <td>7</td>\n",
       "    </tr>\n",
       "    <tr>\n",
       "      <th>2</th>\n",
       "      <td>11</td>\n",
       "      <td>1</td>\n",
       "      <td>7</td>\n",
       "      <td>11</td>\n",
       "      <td>1</td>\n",
       "    </tr>\n",
       "    <tr>\n",
       "      <th>3</th>\n",
       "      <td>9</td>\n",
       "      <td>4</td>\n",
       "      <td>6</td>\n",
       "      <td>9</td>\n",
       "      <td>9</td>\n",
       "    </tr>\n",
       "    <tr>\n",
       "      <th>4</th>\n",
       "      <td>8</td>\n",
       "      <td>4</td>\n",
       "      <td>11</td>\n",
       "      <td>2</td>\n",
       "      <td>1</td>\n",
       "    </tr>\n",
       "  </tbody>\n",
       "</table>\n",
       "</div>"
      ],
      "text/plain": [
       "   C1  C2  C3  C4  C5\n",
       "0   9   1   2   7   8\n",
       "1   4   6  12  11   7\n",
       "2  11   1   7  11   1\n",
       "3   9   4   6   9   9\n",
       "4   8   4  11   2   1"
      ]
     },
     "execution_count": 71,
     "metadata": {},
     "output_type": "execute_result"
    }
   ],
   "source": [
    "cardsCols = ['C1','C2','C3','C4','C5']\n",
    "suiteCols = ['S1','S2','S3','S4','S5']\n",
    "X = df[cardsCols]\n",
    "X.head()\n",
    "\n"
   ]
  },
  {
   "cell_type": "code",
   "execution_count": 72,
   "metadata": {
    "collapsed": false
   },
   "outputs": [
    {
     "data": {
      "text/plain": [
       "0    0\n",
       "1    0\n",
       "2    2\n",
       "3    3\n",
       "4    0\n",
       "Name: hand, dtype: int64"
      ]
     },
     "execution_count": 72,
     "metadata": {},
     "output_type": "execute_result"
    }
   ],
   "source": [
    "y = df['hand']\n",
    "y.head()"
   ]
  },
  {
   "cell_type": "code",
   "execution_count": 103,
   "metadata": {
    "collapsed": false
   },
   "outputs": [
    {
     "name": "stdout",
     "output_type": "stream",
     "text": [
      "       S1  C1  S2  C2  S3  C3  S4  C4  S5  C5  hand  label\n",
      "0       4   9   2   1   2   2   4   7   2   8     0      0\n",
      "1       1   4   3   6   1  12   3  11   2   7     0      0\n",
      "2       1  11   4   1   3   7   4  11   2   1     2      2\n",
      "3       2   9   2   4   3   6   1   9   4   9     3      2\n",
      "4       1   8   2   4   2  11   2   2   2   1     0      0\n",
      "5       2   5   1   5   2  13   2   3   3  13     2      2\n",
      "6       3  10   4   6   1   4   2  13   4   5     0      0\n",
      "7       4  10   3   1   2  13   4   2   4   7     0      0\n",
      "8       3   2   4  10   3   3   4   4   1   9     0      0\n",
      "9       2   7   3   8   4   8   2  13   2  12     1      1\n",
      "10      2   5   1   3   2  10   3   2   2   1     0      0\n",
      "11      1   6   2  12   4   7   2  10   1   1     0      0\n",
      "12      4   2   4   9   1  12   3   7   2  11     0      0\n",
      "13      2   6   1   5   3   3   4   2   4   5     1      1\n",
      "14      1   6   3  12   4  11   2  11   3  13     1      1\n",
      "15      2   5   2   4   4   9   2   3   3   2     0      0\n",
      "16      4   9   4  11   3   8   3   9   3   5     1      1\n",
      "17      1   9   2   4   1  11   3   4   1  13     1      1\n",
      "18      1  11   3  13   4   8   4   1   3   6     0      0\n",
      "19      2   6   1  12   3   8   4   1   4   6     1      1\n",
      "20      2   9   3   7   1  13   2  13   1   2     1      1\n",
      "21      4   4   2  13   3   6   2   7   3   3     0      0\n",
      "22      3   6   1   4   3   1   2   5   4   9     0      0\n",
      "23      1   4   4   3   2  11   4  13   1  10     0      0\n",
      "24      3   9   2   7   2   4   2   1   1  10     0      0\n",
      "25      2   4   4   2   1   4   4   1   3  11     1      1\n",
      "26      2   8   1   4   3  11   1   8   1   2     1      1\n",
      "27      3   8   1  12   4   1   4  10   1   3     0      0\n",
      "28      2  12   1   5   1   2   1  10   2   8     0      0\n",
      "29      2   4   4   7   4   2   4  11   2   2     1      1\n",
      "...    ..  ..  ..  ..  ..  ..  ..  ..  ..  ..   ...    ...\n",
      "24980   2   5   4  13   1   3   4   8   3   9     0      0\n",
      "24981   3   7   4  11   3   1   1  13   4   3     0      0\n",
      "24982   4  10   2   3   1   8   3  11   2   7     0      0\n",
      "24983   1   5   2   6   3  10   4  10   3   3     1      1\n",
      "24984   4  10   2   5   4   6   2  10   3  12     1      1\n",
      "24985   2   6   2   7   4   2   3   6   3   9     1      1\n",
      "24986   1   7   2   4   2   1   1   1   2  11     1      1\n",
      "24987   3   8   4  10   3   2   4   6   1  11     0      0\n",
      "24988   2   8   4   8   1   3   3   8   1   5     3      2\n",
      "24989   1   1   1   7   3   9   4   9   1   5     1      1\n",
      "24990   4   2   3   7   1  13   2  12   2   9     0      0\n",
      "24991   1   7   3  10   3  13   1  13   4  10     2      2\n",
      "24992   1  10   4   5   1   6   3   7   2   5     1      1\n",
      "24993   3   4   3   3   4  10   2   1   4   6     0      0\n",
      "24994   4   1   3   2   2  11   2   6   2   3     0      0\n",
      "24995   3   3   4   5   3   4   4   4   1   3     2      2\n",
      "24996   3   7   1  13   1   2   1   9   2  11     0      0\n",
      "24997   2  13   1   5   4   5   4   8   3   3     1      1\n",
      "24998   3   2   4  10   2   6   1  12   3  10     1      1\n",
      "24999   1   8   4   2   3   1   1   5   1  10     0      0\n",
      "25000   4   4   1  10   3  11   2   2   3   8     0      0\n",
      "25001   2  12   4   9   4  10   3  13   3   9     1      1\n",
      "25002   1  12   2  13   4   2   1   8   2  10     0      0\n",
      "25003   2   3   1   9   1   1   3   8   3   7     0      0\n",
      "25004   3   4   2   8   4   8   1   9   2  11     1      1\n",
      "25005   4   9   4   6   3   6   4  12   4   5     1      1\n",
      "25006   3   8   3   5   4  11   2   2   1  13     0      0\n",
      "25007   1   8   4   5   3  11   3   2   2  13     0      0\n",
      "25008   4  12   3   5   2   1   2   7   4   6     0      0\n",
      "25009   1   1   1   3   1   7   1   2   4   2     1      1\n",
      "\n",
      "[25010 rows x 12 columns]\n"
     ]
    }
   ],
   "source": [
    "for index,rows in df.iterrows():\n",
    "    Cardscol = []\n",
    "    card = rows['C1'],rows['C2'],rows['C3'],rows['C4'],rows['C5']\n",
    "    suit = rows['S1'],rows['S2'],rows['S3'],rows['S4'],rows['S5']\n",
    "    a = (sorted(card))\n",
    "    b = (sorted(suit))\n",
    "   \n",
    "       \n",
    "    if len(set(b)) == 1:\n",
    "        df.set_value(index,'label',5)\n",
    "    if len(set(a)) == 2:\n",
    "        df.set_value(index,'label',3)\n",
    "    if len(set(a)) == 3:\n",
    "        df.set_value(index,'label',2)\n",
    "    if len(set(a)) == 4:\n",
    "        df.set_value(index,'label',1)\n",
    "    if len(set(a)) == 5:\n",
    "        df.set_value(index,'label',0)\n",
    "    #print((set(a)))\n",
    "print(df)    \n",
    "\n",
    "    \n",
    "        "
   ]
  },
  {
   "cell_type": "code",
   "execution_count": null,
   "metadata": {
    "collapsed": true
   },
   "outputs": [],
   "source": []
  },
  {
   "cell_type": "code",
   "execution_count": null,
   "metadata": {
    "collapsed": true
   },
   "outputs": [],
   "source": []
  },
  {
   "cell_type": "code",
   "execution_count": null,
   "metadata": {
    "collapsed": true
   },
   "outputs": [],
   "source": []
  },
  {
   "cell_type": "code",
   "execution_count": 8,
   "metadata": {
    "collapsed": true
   },
   "outputs": [],
   "source": [
    "from sklearn.cross_validation import train_test_split\n",
    "X_train, X_test, y_train, y_test = train_test_split(X, y, test_size=0.2, random_state = 3)"
   ]
  },
  {
   "cell_type": "code",
   "execution_count": 9,
   "metadata": {
    "collapsed": false
   },
   "outputs": [
    {
     "name": "stdout",
     "output_type": "stream",
     "text": [
      "(20008, 10)\n",
      "(20008,)\n"
     ]
    }
   ],
   "source": [
    "#print the size of the training set\n",
    "print(X_train.shape)\n",
    "print(y_train.shape)"
   ]
  },
  {
   "cell_type": "code",
   "execution_count": 11,
   "metadata": {
    "collapsed": false
   },
   "outputs": [
    {
     "data": {
      "text/plain": [
       "LogisticRegression(C=1.0, class_weight=None, dual=False, fit_intercept=True,\n",
       "          intercept_scaling=1, max_iter=100, multi_class='ovr', n_jobs=1,\n",
       "          penalty='l2', random_state=None, solver='liblinear', tol=0.0001,\n",
       "          verbose=0, warm_start=False)"
      ]
     },
     "execution_count": 11,
     "metadata": {},
     "output_type": "execute_result"
    }
   ],
   "source": [
    "my_logreg = LogisticRegression()\n",
    "my_logreg.fit(X_train,y_train)"
   ]
  },
  {
   "cell_type": "code",
   "execution_count": 25,
   "metadata": {
    "collapsed": false
   },
   "outputs": [
    {
     "name": "stdout",
     "output_type": "stream",
     "text": [
      "       S1  C1  S2  C2  S3  C3  S4  C4  S5  C5\n",
      "14852   3   9   4   6   4   1   2   3   1   6\n",
      "1450    3   3   4   6   3   2   4   5   1   9\n",
      "12251   4   9   2   6   3   9   4   3   4   7\n",
      "13533   3  11   2   9   4  11   1  13   3   1\n",
      "4849    1  11   1   2   1   5   4  10   3   2\n",
      "10994   3   1   3  12   2   2   1   6   2   1\n",
      "18314   1  13   1   4   4   2   3   4   4   5\n",
      "16133   1   3   3   9   3   8   3   7   3   1\n",
      "3206    3  12   1   2   1  12   2   3   3   7\n",
      "5373    2   7   2   1   4   7   4  10   3  10\n",
      "17855   1  10   1   9   1   8   4  12   2   3\n",
      "10465   2   5   4   7   2   3   1   3   3   2\n",
      "55      4   7   2  13   3   5   1   7   3   7\n",
      "20298   2  11   4   4   3  10   3   8   1   3\n",
      "24878   4   7   2   3   3  10   2   4   1   9\n",
      "11628   4   5   2   1   3   1   2   8   4   1\n",
      "10716   4   6   3   6   3   2   4   1   4   5\n",
      "20329   2   5   2   9   2   3   3   3   3   5\n",
      "20374   4   4   2   8   3   7   4  10   3   4\n",
      "4833    3  12   3   3   1  13   4   2   3   5\n",
      "7264    4   5   3   6   2   3   3  11   4   9\n",
      "8077    2   1   1   4   2  11   2   4   4   1\n",
      "6988    4   2   3   1   2   1   4   3   1  11\n",
      "21411   3   7   2  12   1   4   1   1   1  13\n",
      "20540   3   2   4   4   4   7   3  11   1   5\n",
      "1828    1  11   4  12   2   7   1  10   3  11\n",
      "968     2   4   2   1   3   6   2   2   4   9\n",
      "5176    2   5   4  10   4   5   2   7   1  10\n",
      "23322   1   4   1  10   3   1   3   7   4   4\n",
      "22557   4   2   1  12   1   8   3  11   2   3\n",
      "...    ..  ..  ..  ..  ..  ..  ..  ..  ..  ..\n",
      "19611   1   9   1  10   2   8   1   7   2  12\n",
      "20369   3  11   2   9   4  13   3   6   2  11\n",
      "127     4   2   2   9   1   4   4   8   1   7\n",
      "6172    4   5   2   1   1   3   3   3   3  12\n",
      "11845   1   1   2  12   2   1   1   4   4  11\n",
      "531     4  12   3  10   1  10   4   9   3  12\n",
      "21713   3  13   2   4   4   7   1   2   4   6\n",
      "6697    1   4   1   3   1   7   1   5   2   2\n",
      "14418   2  11   2   5   3  10   1   3   3   1\n",
      "15679   1  10   4   9   4   4   1   7   3  10\n",
      "2085    3   5   1   1   4   1   4   3   3   6\n",
      "19001   1   9   1   3   4   3   4  13   3   5\n",
      "19899   3   7   3   3   2  11   2   1   3  10\n",
      "16759   1   6   3   7   1  12   4  11   2   3\n",
      "19464   3  11   1   7   3   1   3   3   1  11\n",
      "14320   4  13   3   6   4   9   2   4   3   3\n",
      "11182   3  13   1   1   2  12   1  10   4   6\n",
      "14025   2   3   1   2   1   8   1   6   3  12\n",
      "4870    2   2   3   5   4   3   3  12   4   5\n",
      "17894   1   3   3   9   2   7   4   6   2  10\n",
      "18462   4   3   3   9   3   5   2   5   2   2\n",
      "4975    4   8   1   5   2   4   3   6   1  12\n",
      "16723   1   3   4   7   1   5   4   8   1   4\n",
      "14820   3  13   2   4   4  10   1   1   4   9\n",
      "274     2   8   3  12   2  11   4   2   1   4\n",
      "17560   3   8   3   2   1   2   2   8   4   8\n",
      "4390    1  11   3   4   3   5   3  11   2   7\n",
      "3526    1   2   1   8   1  13   2  10   2   4\n",
      "11260   1   2   4  13   4   2   3  10   2   3\n",
      "20967   1   3   2   7   1  10   2  11   3   2\n",
      "\n",
      "[5002 rows x 10 columns]\n"
     ]
    }
   ],
   "source": [
    "y_predict_lr = my_logreg.predict(X_test)\n",
    "#y_predict_lr[2000:2040]\n",
    "print(X_test)"
   ]
  },
  {
   "cell_type": "code",
   "execution_count": null,
   "metadata": {
    "collapsed": true
   },
   "outputs": [],
   "source": []
  },
  {
   "cell_type": "code",
   "execution_count": 474,
   "metadata": {
    "collapsed": false
   },
   "outputs": [
    {
     "name": "stdout",
     "output_type": "stream",
     "text": [
      "45\n",
      "('7♦', '2♦', 'Q♠', '6♦', 'Q♦')\n",
      "('K♥', '9♥', 'K♦', 'J♦', 'J♠')\n",
      "('6♥', 'A♣', '6♣', '9♦', '4♠')\n",
      "('4♣', 'J♥', 'Q♥', '10♦', '8♥')\n",
      "('8♦', '5♥', '10♣', '10♠', '5♣')\n",
      "('2♥', 'K♣', '2♠', '5♠', '5♦')\n",
      "('6♠', 'A♥', '4♥', '4♦', 'A♦')\n",
      "('3♥', '9♠', 'Q♣', 'A♠', '7♠')\n",
      "('3♣', '3♠', '7♣', '8♣', '10♥')\n"
     ]
    }
   ],
   "source": [
    "#deck of cards\n",
    "import random\n",
    "deck=['A♠','2♠','3♠','4♠','5♠','6♠','7♠','8♠','9♠','10♠','J♠','Q♠','K♠',\n",
    "       'A♥','2♥','3♥','4♥','5♥','6♥','7♥','8♥','9♥','10♥','J♥','Q♥','K♥',\n",
    "       'A♣','2♣','3♣','4♣','5♣','6♣','7♣','8♣','9♣','10♣','J♣','Q♣','K♣',\n",
    "       'A♦','2♦','3♦','4♦','5♦','6♦','7♦','8♦','9♦','10♦','J♦','Q♦','K♦']\n",
    "#Shuffling and dealing the cards to players\n",
    "player=[]\n",
    "cards=[]\n",
    "for i in range (0,5):\n",
    "    for j in range (0,9):\n",
    "        card = random.choice(deck)\n",
    "        cards.append(card)\n",
    "        deck.remove(card)\n",
    "print(len(cards))\n",
    "\n",
    "player1 = cards[0],cards[9],cards[18],cards[27],cards[36]\n",
    "player2 = cards[1],cards[10],cards[19],cards[28],cards[37]\n",
    "player3 = cards[2],cards[11],cards[20],cards[29],cards[38]\n",
    "player4 = cards[3],cards[12],cards[21],cards[30],cards[39]\n",
    "player5 = cards[4],cards[13],cards[22],cards[31],cards[40]\n",
    "player6 = cards[5],cards[14],cards[23],cards[32],cards[41]\n",
    "player7 = cards[6],cards[15],cards[24],cards[33],cards[42]\n",
    "player8 = cards[7],cards[16],cards[25],cards[34],cards[43]\n",
    "player9 = cards[8],cards[17],cards[26],cards[35],cards[44]\n",
    "print(player1)\n",
    "print(player2)\n",
    "print(player3)\n",
    "print(player4)\n",
    "print(player5)\n",
    "print(player6)\n",
    "print(player7)\n",
    "print(player8)\n",
    "print(player9)\n"
   ]
  },
  {
   "cell_type": "code",
   "execution_count": 475,
   "metadata": {
    "collapsed": false
   },
   "outputs": [
    {
     "name": "stdout",
     "output_type": "stream",
     "text": [
      "HAND               CATEGORY        TIE-BREAKER\n",
      "('7♦', '2♦', 'Q♠', '6♦', 'Q♦') One Pair        ['Q', '7', '6', '2']\n",
      "('K♥', '9♥', 'K♦', 'J♦', 'J♠') Two Pair        ['K', 'J', '9']\n",
      "('6♥', 'A♣', '6♣', '9♦', '4♠') One Pair        ['6', 'A', '9', '4']\n",
      "('4♣', 'J♥', 'Q♥', '10♦', '8♥') High Card       ['Q', 'J', '10', '8', '4']\n",
      "('8♦', '5♥', '10♣', '10♠', '5♣') Two Pair        ['10', '5', '8']\n",
      "('2♥', 'K♣', '2♠', '5♠', '5♦') Two Pair        ['5', '2', 'K']\n",
      "('6♠', 'A♥', '4♥', '4♦', 'A♦') Two Pair        ['A', '4', '6']\n",
      "('3♥', '9♠', 'Q♣', 'A♠', '7♠') High Card       ['A', 'Q', '9', '7', '3']\n",
      "('3♣', '3♠', '7♣', '8♣', '10♥') One Pair        ['3', '10', '8', '7']\n"
     ]
    }
   ],
   "source": [
    "from collections import namedtuple\n",
    " \n",
    "class Card(namedtuple('Card', 'face, suit')):\n",
    "    def __repr__(self):\n",
    "        return ''.join(self)\n",
    " \n",
    " \n",
    "suit = '♥ ♦ ♣ ♠'.split()\n",
    "# ordered strings of faces\n",
    "faces   = '2 3 4 5 6 7 8 9 10 J Q K A'\n",
    "lowaces = 'A 2 3 4 5 6 7 8 9 10 J Q K'\n",
    "# faces as lists\n",
    "face   = faces.split()\n",
    "lowace = lowaces.split()\n",
    " \n",
    " \n",
    "def straightflush(hand):\n",
    "    f,fs = ( (lowace, lowaces) if any(card.face == '2' for card in hand)\n",
    "             else (face, faces) )\n",
    "    ordered = sorted(hand, key=lambda card: (f.index(card.face), card.suit))\n",
    "    first, rest = ordered[0], ordered[1:]\n",
    "    if ( all(card.suit == first.suit for card in rest) and\n",
    "         ' '.join(card.face for card in ordered) in fs ):\n",
    "        return 'Straight Flush', ordered[-1].face\n",
    "    return False\n",
    " \n",
    "def fourofakind(hand):\n",
    "    allfaces = [f for f,s in hand]\n",
    "    allftypes = set(allfaces)\n",
    "    if len(allftypes) != 2:\n",
    "        return False\n",
    "    for f in allftypes:\n",
    "        if allfaces.count(f) == 4:\n",
    "            allftypes.remove(f)\n",
    "            return 'Four of a Kind', [f, allftypes.pop()]\n",
    "    else:\n",
    "        return False\n",
    " \n",
    "def fullhouse(hand):\n",
    "    allfaces = [f for f,s in hand]\n",
    "    allftypes = set(allfaces)\n",
    "    if len(allftypes) != 2:\n",
    "        return False\n",
    "    for f in allftypes:\n",
    "        if allfaces.count(f) == 3:\n",
    "            allftypes.remove(f)\n",
    "            return 'Full House', [f, allftypes.pop()]\n",
    "    else:\n",
    "        return False\n",
    " \n",
    "def flush(hand):\n",
    "    allstypes = {s for f, s in hand}\n",
    "    if len(allstypes) == 1:\n",
    "        allfaces = [f for f,s in hand]\n",
    "        return 'Flush', sorted(allfaces,\n",
    "                               key=lambda f: face.index(f),\n",
    "                               reverse=True)\n",
    "    return False\n",
    " \n",
    "def straight(hand):\n",
    "    f,fs = ( (lowace, lowaces) if any(card.face == '2' for card in hand)\n",
    "             else (face, faces) )\n",
    "    ordered = sorted(hand, key=lambda card: (f.index(card.face), card.suit))\n",
    "    first, rest = ordered[0], ordered[1:]\n",
    "    if ' '.join(card.face for card in ordered) in fs:\n",
    "        return 'Straight', ordered[-1].face\n",
    "    return False\n",
    " \n",
    "def threeofakind(hand):\n",
    "    allfaces = [f for f,s in hand]\n",
    "    allftypes = set(allfaces)\n",
    "    if len(allftypes) <= 2:\n",
    "        return False\n",
    "    for f in allftypes:\n",
    "        if allfaces.count(f) == 3:\n",
    "            allftypes.remove(f)\n",
    "            return ('Three of a Kind', [f] +\n",
    "                     sorted(allftypes,\n",
    "                            key=lambda f: face.index(f),\n",
    "                            reverse=True))\n",
    "    else:\n",
    "        return False\n",
    " \n",
    "def twopair(hand):\n",
    "    allfaces = [f for f,s in hand]\n",
    "    allftypes = set(allfaces)\n",
    "    pairs = [f for f in allftypes if allfaces.count(f) == 2]\n",
    "    if len(pairs) != 2:\n",
    "        return False\n",
    "    p0, p1 = pairs\n",
    "    other = [(allftypes - set(pairs)).pop()]\n",
    "    return 'Two Pair', pairs + other if face.index(p0) > face.index(p1) else pairs[::-1] + other\n",
    " \n",
    "def onepair(hand):\n",
    "    allfaces = [f for f,s in hand]\n",
    "    allftypes = set(allfaces)\n",
    "    pairs = [f for f in allftypes if allfaces.count(f) == 2]\n",
    "    if len(pairs) != 1:\n",
    "        return False\n",
    "    allftypes.remove(pairs[0])\n",
    "    return 'One Pair', pairs + sorted(allftypes,\n",
    "                                      key=lambda f: face.index(f),\n",
    "                                      reverse=True)\n",
    " \n",
    "def highcard(hand):\n",
    "    allfaces = [f for f,s in hand]\n",
    "    return 'High Card', sorted(allfaces,\n",
    "                               key=lambda f: face.index(f),\n",
    "                               reverse=True)\n",
    " \n",
    "handrankorder =  (straightflush, fourofakind, fullhouse,\n",
    "                  flush, straight, threeofakind,\n",
    "                  twopair, onepair, highcard)\n",
    " \n",
    "def rank(cards):\n",
    "    hand = handy(cards)\n",
    "    for ranker in handrankorder:\n",
    "        rank = ranker(hand)\n",
    "        if rank:\n",
    "            break\n",
    "    assert rank, \"Invalid: Failed to rank cards: %r\" % cards\n",
    "    return rank\n",
    " \n",
    "def handy(cards):\n",
    "    hand = []\n",
    "    for card in cards:\n",
    "        f, s = card[:-1], card[-1]\n",
    "        assert f in face, \"Invalid: Don't understand card face %r\" % f\n",
    "        assert s in suit, \"Invalid: Don't understand card suit %r\" % s\n",
    "        hand.append(Card(f, s))\n",
    "    assert len(hand) == 5, \"Invalid: Must be 5 cards in a hand, not %i\" % len(hand)\n",
    "    assert len(set(hand)) == 5, \"Invalid: All cards in the hand must be unique %r\" % cards\n",
    "    return hand\n",
    " \n",
    "category =[]\n",
    "tieBreaker=[]\n",
    "\n",
    "if __name__ == '__main__':\n",
    "    hands = [player1,player2,player3,player4,player5,player6,player7,player8,player9]\n",
    "    i=0; \n",
    "    print(\"%-18s %-15s %s\" % (\"HAND\", \"CATEGORY\", \"TIE-BREAKER\"))\n",
    "    for cards in hands:\n",
    "        i = i+1\n",
    "        r = rank(cards)\n",
    "        print(\"%-18r %-15s %r\" % (cards, r[0], r[1]))\n",
    "        category.append([\"player%s\"%i,r[0],r[1]])"
   ]
  },
  {
   "cell_type": "code",
   "execution_count": 476,
   "metadata": {
    "collapsed": false
   },
   "outputs": [
    {
     "name": "stdout",
     "output_type": "stream",
     "text": [
      "['player2', 'Two Pair', ['K', 'J', '9']]\n",
      "['player5', 'Two Pair', ['10', '5', '8']]\n",
      "['player6', 'Two Pair', ['5', '2', 'K']]\n",
      "['player7', 'Two Pair', ['A', '4', '6']]\n",
      "player7 is the winner\n"
     ]
    }
   ],
   "source": [
    "handrank = (\"Straight Flush\",\"Four of a Kind\", \"Full House\",\n",
    "                  \"Flush\", \"Straight\", \"Three of a Kind\",\n",
    "                  \"Two Pair\", \"One Pair\", \"High Card\")\n",
    "winner=''\n",
    "for i in handrank:\n",
    "    matching = [s for s in category if i in s]\n",
    "    if(len(matching)==0):\n",
    "        flag=0;\n",
    "    else:\n",
    "        flag=1;\n",
    "    high=0;\n",
    "    for j in matching:\n",
    "        print(j)\n",
    "    for k in matching:\n",
    "        #print(i)\n",
    "        num = (k[2][0])\n",
    "        #print(\"Num:\",num)\n",
    "        if(num is 'A'):\n",
    "            num = 14\n",
    "        elif(num is 'K'):\n",
    "            num = 13\n",
    "        elif(num is 'Q'):\n",
    "            num = 12\n",
    "        elif(num is 'J'):\n",
    "            num = 11\n",
    "        if(high < int(num)):\n",
    "            high = int(num)\n",
    "            #print(\"high:\",high)\n",
    "    \n",
    "    for a in matching:\n",
    "        #print(\"A:\",a[2][0])\n",
    "        if(a[2][0] is 'A'):\n",
    "            a[2][0] = 14\n",
    "        elif(a[2][0] is 'K'):\n",
    "            a[2][0] = 13\n",
    "        elif(a[2][0] is 'Q'):\n",
    "            a[2][0] = 12\n",
    "        elif(a[2][0] is 'J'):\n",
    "            a[2][0] = 11\n",
    "        if int(a[2][0]) == high:\n",
    "            print(a[0],\"is the winner\")\n",
    "            #print(\"print:\",a[0])\n",
    "        if(a[2][0] == 14):\n",
    "            a[2][0] = 'A'\n",
    "        elif(a[2][0] is 13):\n",
    "            a[2][0] = 'K'\n",
    "        elif(a[2][0] is 12):\n",
    "            a[2][0] = 'Q'\n",
    "        elif(a[2][0] is 11):\n",
    "            a[2][0] = 'J'\n",
    "        winner=a[0]\n",
    "    if flag == 1:\n",
    "        break;\n"
   ]
  },
  {
   "cell_type": "code",
   "execution_count": null,
   "metadata": {
    "collapsed": true
   },
   "outputs": [],
   "source": []
  },
  {
   "cell_type": "code",
   "execution_count": null,
   "metadata": {
    "collapsed": true
   },
   "outputs": [],
   "source": []
  }
 ],
 "metadata": {
  "anaconda-cloud": {},
  "kernelspec": {
   "display_name": "Python [Root]",
   "language": "python",
   "name": "Python [Root]"
  },
  "language_info": {
   "codemirror_mode": {
    "name": "ipython",
    "version": 3
   },
   "file_extension": ".py",
   "mimetype": "text/x-python",
   "name": "python",
   "nbconvert_exporter": "python",
   "pygments_lexer": "ipython3",
   "version": "3.5.2"
  }
 },
 "nbformat": 4,
 "nbformat_minor": 0
}
