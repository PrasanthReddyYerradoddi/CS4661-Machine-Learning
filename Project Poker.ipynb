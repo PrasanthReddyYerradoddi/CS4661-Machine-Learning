{
 "cells": [
  {
   "cell_type": "code",
   "execution_count": 2,
   "metadata": {
    "collapsed": true
   },
   "outputs": [],
   "source": [
    "# Pandas is a powerful library to read and process data tables\n",
    "import numpy as np\n",
    "# it means that we can use abbreviation \"np\" from now on to refer to numpy functions \n",
    "import pandas as pd"
   ]
  },
  {
   "cell_type": "code",
   "execution_count": 3,
   "metadata": {
    "collapsed": true
   },
   "outputs": [],
   "source": [
    "# The following line will import LogisticRegression and DecisionTreeClassifier Classes\n",
    "# \"LogisticRegression\" and \"DecisionTreeClassifier\" are the names of a \"sklearn classes\" to perform Logistic Regression and Decision Tree based Classification \n",
    "from sklearn.linear_model import LogisticRegression\n",
    "from sklearn.tree import DecisionTreeClassifier\n",
    "from sklearn.linear_model import LinearRegression"
   ]
  },
  {
   "cell_type": "code",
   "execution_count": 4,
   "metadata": {
    "collapsed": true
   },
   "outputs": [],
   "source": [
    "# loading a CSV file from local device and store it in a pandas DataFrame:\n",
    "# \"read_csv\" is a pandas function to read csv files from web or local device:\n",
    "df= pd.DataFrame()\n",
    "\n",
    "df = pd.read_csv('https://raw.githubusercontent.com/PrasanthReddyYerradoddi/Machine-Learning/master/train.csv')"
   ]
  },
  {
   "cell_type": "code",
   "execution_count": 5,
   "metadata": {
    "collapsed": false
   },
   "outputs": [
    {
     "data": {
      "text/html": [
       "<div>\n",
       "<table border=\"1\" class=\"dataframe\">\n",
       "  <thead>\n",
       "    <tr style=\"text-align: right;\">\n",
       "      <th></th>\n",
       "      <th>S1</th>\n",
       "      <th>C1</th>\n",
       "      <th>S2</th>\n",
       "      <th>C2</th>\n",
       "      <th>S3</th>\n",
       "      <th>C3</th>\n",
       "      <th>S4</th>\n",
       "      <th>C4</th>\n",
       "      <th>S5</th>\n",
       "      <th>C5</th>\n",
       "      <th>hand</th>\n",
       "    </tr>\n",
       "  </thead>\n",
       "  <tbody>\n",
       "    <tr>\n",
       "      <th>0</th>\n",
       "      <td>4</td>\n",
       "      <td>9</td>\n",
       "      <td>2</td>\n",
       "      <td>1</td>\n",
       "      <td>2</td>\n",
       "      <td>2</td>\n",
       "      <td>4</td>\n",
       "      <td>7</td>\n",
       "      <td>2</td>\n",
       "      <td>8</td>\n",
       "      <td>0</td>\n",
       "    </tr>\n",
       "    <tr>\n",
       "      <th>1</th>\n",
       "      <td>1</td>\n",
       "      <td>4</td>\n",
       "      <td>3</td>\n",
       "      <td>6</td>\n",
       "      <td>1</td>\n",
       "      <td>12</td>\n",
       "      <td>3</td>\n",
       "      <td>11</td>\n",
       "      <td>2</td>\n",
       "      <td>7</td>\n",
       "      <td>0</td>\n",
       "    </tr>\n",
       "    <tr>\n",
       "      <th>2</th>\n",
       "      <td>1</td>\n",
       "      <td>11</td>\n",
       "      <td>4</td>\n",
       "      <td>1</td>\n",
       "      <td>3</td>\n",
       "      <td>7</td>\n",
       "      <td>4</td>\n",
       "      <td>11</td>\n",
       "      <td>2</td>\n",
       "      <td>1</td>\n",
       "      <td>2</td>\n",
       "    </tr>\n",
       "    <tr>\n",
       "      <th>3</th>\n",
       "      <td>2</td>\n",
       "      <td>9</td>\n",
       "      <td>2</td>\n",
       "      <td>4</td>\n",
       "      <td>3</td>\n",
       "      <td>6</td>\n",
       "      <td>1</td>\n",
       "      <td>9</td>\n",
       "      <td>4</td>\n",
       "      <td>9</td>\n",
       "      <td>3</td>\n",
       "    </tr>\n",
       "    <tr>\n",
       "      <th>4</th>\n",
       "      <td>1</td>\n",
       "      <td>8</td>\n",
       "      <td>2</td>\n",
       "      <td>4</td>\n",
       "      <td>2</td>\n",
       "      <td>11</td>\n",
       "      <td>2</td>\n",
       "      <td>2</td>\n",
       "      <td>2</td>\n",
       "      <td>1</td>\n",
       "      <td>0</td>\n",
       "    </tr>\n",
       "  </tbody>\n",
       "</table>\n",
       "</div>"
      ],
      "text/plain": [
       "   S1  C1  S2  C2  S3  C3  S4  C4  S5  C5  hand\n",
       "0   4   9   2   1   2   2   4   7   2   8     0\n",
       "1   1   4   3   6   1  12   3  11   2   7     0\n",
       "2   1  11   4   1   3   7   4  11   2   1     2\n",
       "3   2   9   2   4   3   6   1   9   4   9     3\n",
       "4   1   8   2   4   2  11   2   2   2   1     0"
      ]
     },
     "execution_count": 5,
     "metadata": {},
     "output_type": "execute_result"
    }
   ],
   "source": [
    "df.head()"
   ]
  },
  {
   "cell_type": "code",
   "execution_count": 6,
   "metadata": {
    "collapsed": false
   },
   "outputs": [
    {
     "data": {
      "text/html": [
       "<div>\n",
       "<table border=\"1\" class=\"dataframe\">\n",
       "  <thead>\n",
       "    <tr style=\"text-align: right;\">\n",
       "      <th></th>\n",
       "      <th>S1</th>\n",
       "      <th>C1</th>\n",
       "      <th>S2</th>\n",
       "      <th>C2</th>\n",
       "      <th>S3</th>\n",
       "      <th>C3</th>\n",
       "      <th>S4</th>\n",
       "      <th>C4</th>\n",
       "      <th>S5</th>\n",
       "      <th>C5</th>\n",
       "    </tr>\n",
       "  </thead>\n",
       "  <tbody>\n",
       "    <tr>\n",
       "      <th>0</th>\n",
       "      <td>4</td>\n",
       "      <td>9</td>\n",
       "      <td>2</td>\n",
       "      <td>1</td>\n",
       "      <td>2</td>\n",
       "      <td>2</td>\n",
       "      <td>4</td>\n",
       "      <td>7</td>\n",
       "      <td>2</td>\n",
       "      <td>8</td>\n",
       "    </tr>\n",
       "    <tr>\n",
       "      <th>1</th>\n",
       "      <td>1</td>\n",
       "      <td>4</td>\n",
       "      <td>3</td>\n",
       "      <td>6</td>\n",
       "      <td>1</td>\n",
       "      <td>12</td>\n",
       "      <td>3</td>\n",
       "      <td>11</td>\n",
       "      <td>2</td>\n",
       "      <td>7</td>\n",
       "    </tr>\n",
       "    <tr>\n",
       "      <th>2</th>\n",
       "      <td>1</td>\n",
       "      <td>11</td>\n",
       "      <td>4</td>\n",
       "      <td>1</td>\n",
       "      <td>3</td>\n",
       "      <td>7</td>\n",
       "      <td>4</td>\n",
       "      <td>11</td>\n",
       "      <td>2</td>\n",
       "      <td>1</td>\n",
       "    </tr>\n",
       "    <tr>\n",
       "      <th>3</th>\n",
       "      <td>2</td>\n",
       "      <td>9</td>\n",
       "      <td>2</td>\n",
       "      <td>4</td>\n",
       "      <td>3</td>\n",
       "      <td>6</td>\n",
       "      <td>1</td>\n",
       "      <td>9</td>\n",
       "      <td>4</td>\n",
       "      <td>9</td>\n",
       "    </tr>\n",
       "    <tr>\n",
       "      <th>4</th>\n",
       "      <td>1</td>\n",
       "      <td>8</td>\n",
       "      <td>2</td>\n",
       "      <td>4</td>\n",
       "      <td>2</td>\n",
       "      <td>11</td>\n",
       "      <td>2</td>\n",
       "      <td>2</td>\n",
       "      <td>2</td>\n",
       "      <td>1</td>\n",
       "    </tr>\n",
       "  </tbody>\n",
       "</table>\n",
       "</div>"
      ],
      "text/plain": [
       "   S1  C1  S2  C2  S3  C3  S4  C4  S5  C5\n",
       "0   4   9   2   1   2   2   4   7   2   8\n",
       "1   1   4   3   6   1  12   3  11   2   7\n",
       "2   1  11   4   1   3   7   4  11   2   1\n",
       "3   2   9   2   4   3   6   1   9   4   9\n",
       "4   1   8   2   4   2  11   2   2   2   1"
      ]
     },
     "execution_count": 6,
     "metadata": {},
     "output_type": "execute_result"
    }
   ],
   "source": [
    "cols = ['S1','C1','S2','C2','S3','C3','S4','C4','S5','C5']\n",
    "X = df[cols]\n",
    "X.head()"
   ]
  },
  {
   "cell_type": "code",
   "execution_count": 7,
   "metadata": {
    "collapsed": false
   },
   "outputs": [
    {
     "data": {
      "text/plain": [
       "0    0\n",
       "1    0\n",
       "2    2\n",
       "3    3\n",
       "4    0\n",
       "Name: hand, dtype: int64"
      ]
     },
     "execution_count": 7,
     "metadata": {},
     "output_type": "execute_result"
    }
   ],
   "source": [
    "y = df['hand']\n",
    "y.head()"
   ]
  },
  {
   "cell_type": "code",
   "execution_count": 8,
   "metadata": {
    "collapsed": true
   },
   "outputs": [],
   "source": [
    "from sklearn.cross_validation import train_test_split\n",
    "X_train, X_test, y_train, y_test = train_test_split(X, y, test_size=0.2, random_state = 3)"
   ]
  },
  {
   "cell_type": "code",
   "execution_count": 9,
   "metadata": {
    "collapsed": false
   },
   "outputs": [
    {
     "name": "stdout",
     "output_type": "stream",
     "text": [
      "(20008, 10)\n",
      "(20008,)\n"
     ]
    }
   ],
   "source": [
    "#print the size of the training set\n",
    "print(X_train.shape)\n",
    "print(y_train.shape)"
   ]
  },
  {
   "cell_type": "code",
   "execution_count": 11,
   "metadata": {
    "collapsed": false
   },
   "outputs": [
    {
     "data": {
      "text/plain": [
       "LogisticRegression(C=1.0, class_weight=None, dual=False, fit_intercept=True,\n",
       "          intercept_scaling=1, max_iter=100, multi_class='ovr', n_jobs=1,\n",
       "          penalty='l2', random_state=None, solver='liblinear', tol=0.0001,\n",
       "          verbose=0, warm_start=False)"
      ]
     },
     "execution_count": 11,
     "metadata": {},
     "output_type": "execute_result"
    }
   ],
   "source": [
    "my_logreg = LogisticRegression()\n",
    "my_logreg.fit(X_train,y_train)"
   ]
  },
  {
   "cell_type": "code",
   "execution_count": 19,
   "metadata": {
    "collapsed": false
   },
   "outputs": [
    {
     "data": {
      "text/plain": [
       "array([0, 0, 0, 0, 0, 0, 0, 0, 0, 0, 0, 0, 0, 0, 0, 0, 0, 0, 0, 0])"
      ]
     },
     "execution_count": 19,
     "metadata": {},
     "output_type": "execute_result"
    }
   ],
   "source": [
    "y_predict_lr = my_logreg.predict(X_test)\n",
    "y_predict_lr[20:40]\n"
   ]
  },
  {
   "cell_type": "code",
   "execution_count": null,
   "metadata": {
    "collapsed": true
   },
   "outputs": [],
   "source": []
  },
  {
   "cell_type": "code",
   "execution_count": 474,
   "metadata": {
    "collapsed": false
   },
   "outputs": [
    {
     "name": "stdout",
     "output_type": "stream",
     "text": [
      "45\n",
      "('7♦', '2♦', 'Q♠', '6♦', 'Q♦')\n",
      "('K♥', '9♥', 'K♦', 'J♦', 'J♠')\n",
      "('6♥', 'A♣', '6♣', '9♦', '4♠')\n",
      "('4♣', 'J♥', 'Q♥', '10♦', '8♥')\n",
      "('8♦', '5♥', '10♣', '10♠', '5♣')\n",
      "('2♥', 'K♣', '2♠', '5♠', '5♦')\n",
      "('6♠', 'A♥', '4♥', '4♦', 'A♦')\n",
      "('3♥', '9♠', 'Q♣', 'A♠', '7♠')\n",
      "('3♣', '3♠', '7♣', '8♣', '10♥')\n"
     ]
    }
   ],
   "source": [
    "#deck of cards\n",
    "import random\n",
    "deck=['A♠','2♠','3♠','4♠','5♠','6♠','7♠','8♠','9♠','10♠','J♠','Q♠','K♠',\n",
    "       'A♥','2♥','3♥','4♥','5♥','6♥','7♥','8♥','9♥','10♥','J♥','Q♥','K♥',\n",
    "       'A♣','2♣','3♣','4♣','5♣','6♣','7♣','8♣','9♣','10♣','J♣','Q♣','K♣',\n",
    "       'A♦','2♦','3♦','4♦','5♦','6♦','7♦','8♦','9♦','10♦','J♦','Q♦','K♦']\n",
    "#Shuffling and dealing the cards to players\n",
    "player=[]\n",
    "cards=[]\n",
    "for i in range (0,5):\n",
    "    for j in range (0,9):\n",
    "        card = random.choice(deck)\n",
    "        cards.append(card)\n",
    "        deck.remove(card)\n",
    "print(len(cards))\n",
    "\n",
    "player1 = cards[0],cards[9],cards[18],cards[27],cards[36]\n",
    "player2 = cards[1],cards[10],cards[19],cards[28],cards[37]\n",
    "player3 = cards[2],cards[11],cards[20],cards[29],cards[38]\n",
    "player4 = cards[3],cards[12],cards[21],cards[30],cards[39]\n",
    "player5 = cards[4],cards[13],cards[22],cards[31],cards[40]\n",
    "player6 = cards[5],cards[14],cards[23],cards[32],cards[41]\n",
    "player7 = cards[6],cards[15],cards[24],cards[33],cards[42]\n",
    "player8 = cards[7],cards[16],cards[25],cards[34],cards[43]\n",
    "player9 = cards[8],cards[17],cards[26],cards[35],cards[44]\n",
    "print(player1)\n",
    "print(player2)\n",
    "print(player3)\n",
    "print(player4)\n",
    "print(player5)\n",
    "print(player6)\n",
    "print(player7)\n",
    "print(player8)\n",
    "print(player9)\n"
   ]
  },
  {
   "cell_type": "code",
   "execution_count": 475,
   "metadata": {
    "collapsed": false
   },
   "outputs": [
    {
     "name": "stdout",
     "output_type": "stream",
     "text": [
      "HAND               CATEGORY        TIE-BREAKER\n",
      "('7♦', '2♦', 'Q♠', '6♦', 'Q♦') One Pair        ['Q', '7', '6', '2']\n",
      "('K♥', '9♥', 'K♦', 'J♦', 'J♠') Two Pair        ['K', 'J', '9']\n",
      "('6♥', 'A♣', '6♣', '9♦', '4♠') One Pair        ['6', 'A', '9', '4']\n",
      "('4♣', 'J♥', 'Q♥', '10♦', '8♥') High Card       ['Q', 'J', '10', '8', '4']\n",
      "('8♦', '5♥', '10♣', '10♠', '5♣') Two Pair        ['10', '5', '8']\n",
      "('2♥', 'K♣', '2♠', '5♠', '5♦') Two Pair        ['5', '2', 'K']\n",
      "('6♠', 'A♥', '4♥', '4♦', 'A♦') Two Pair        ['A', '4', '6']\n",
      "('3♥', '9♠', 'Q♣', 'A♠', '7♠') High Card       ['A', 'Q', '9', '7', '3']\n",
      "('3♣', '3♠', '7♣', '8♣', '10♥') One Pair        ['3', '10', '8', '7']\n"
     ]
    }
   ],
   "source": [
    "from collections import namedtuple\n",
    " \n",
    "class Card(namedtuple('Card', 'face, suit')):\n",
    "    def __repr__(self):\n",
    "        return ''.join(self)\n",
    " \n",
    " \n",
    "suit = '♥ ♦ ♣ ♠'.split()\n",
    "# ordered strings of faces\n",
    "faces   = '2 3 4 5 6 7 8 9 10 J Q K A'\n",
    "lowaces = 'A 2 3 4 5 6 7 8 9 10 J Q K'\n",
    "# faces as lists\n",
    "face   = faces.split()\n",
    "lowace = lowaces.split()\n",
    " \n",
    " \n",
    "def straightflush(hand):\n",
    "    f,fs = ( (lowace, lowaces) if any(card.face == '2' for card in hand)\n",
    "             else (face, faces) )\n",
    "    ordered = sorted(hand, key=lambda card: (f.index(card.face), card.suit))\n",
    "    first, rest = ordered[0], ordered[1:]\n",
    "    if ( all(card.suit == first.suit for card in rest) and\n",
    "         ' '.join(card.face for card in ordered) in fs ):\n",
    "        return 'Straight Flush', ordered[-1].face\n",
    "    return False\n",
    " \n",
    "def fourofakind(hand):\n",
    "    allfaces = [f for f,s in hand]\n",
    "    allftypes = set(allfaces)\n",
    "    if len(allftypes) != 2:\n",
    "        return False\n",
    "    for f in allftypes:\n",
    "        if allfaces.count(f) == 4:\n",
    "            allftypes.remove(f)\n",
    "            return 'Four of a Kind', [f, allftypes.pop()]\n",
    "    else:\n",
    "        return False\n",
    " \n",
    "def fullhouse(hand):\n",
    "    allfaces = [f for f,s in hand]\n",
    "    allftypes = set(allfaces)\n",
    "    if len(allftypes) != 2:\n",
    "        return False\n",
    "    for f in allftypes:\n",
    "        if allfaces.count(f) == 3:\n",
    "            allftypes.remove(f)\n",
    "            return 'Full House', [f, allftypes.pop()]\n",
    "    else:\n",
    "        return False\n",
    " \n",
    "def flush(hand):\n",
    "    allstypes = {s for f, s in hand}\n",
    "    if len(allstypes) == 1:\n",
    "        allfaces = [f for f,s in hand]\n",
    "        return 'Flush', sorted(allfaces,\n",
    "                               key=lambda f: face.index(f),\n",
    "                               reverse=True)\n",
    "    return False\n",
    " \n",
    "def straight(hand):\n",
    "    f,fs = ( (lowace, lowaces) if any(card.face == '2' for card in hand)\n",
    "             else (face, faces) )\n",
    "    ordered = sorted(hand, key=lambda card: (f.index(card.face), card.suit))\n",
    "    first, rest = ordered[0], ordered[1:]\n",
    "    if ' '.join(card.face for card in ordered) in fs:\n",
    "        return 'Straight', ordered[-1].face\n",
    "    return False\n",
    " \n",
    "def threeofakind(hand):\n",
    "    allfaces = [f for f,s in hand]\n",
    "    allftypes = set(allfaces)\n",
    "    if len(allftypes) <= 2:\n",
    "        return False\n",
    "    for f in allftypes:\n",
    "        if allfaces.count(f) == 3:\n",
    "            allftypes.remove(f)\n",
    "            return ('Three of a Kind', [f] +\n",
    "                     sorted(allftypes,\n",
    "                            key=lambda f: face.index(f),\n",
    "                            reverse=True))\n",
    "    else:\n",
    "        return False\n",
    " \n",
    "def twopair(hand):\n",
    "    allfaces = [f for f,s in hand]\n",
    "    allftypes = set(allfaces)\n",
    "    pairs = [f for f in allftypes if allfaces.count(f) == 2]\n",
    "    if len(pairs) != 2:\n",
    "        return False\n",
    "    p0, p1 = pairs\n",
    "    other = [(allftypes - set(pairs)).pop()]\n",
    "    return 'Two Pair', pairs + other if face.index(p0) > face.index(p1) else pairs[::-1] + other\n",
    " \n",
    "def onepair(hand):\n",
    "    allfaces = [f for f,s in hand]\n",
    "    allftypes = set(allfaces)\n",
    "    pairs = [f for f in allftypes if allfaces.count(f) == 2]\n",
    "    if len(pairs) != 1:\n",
    "        return False\n",
    "    allftypes.remove(pairs[0])\n",
    "    return 'One Pair', pairs + sorted(allftypes,\n",
    "                                      key=lambda f: face.index(f),\n",
    "                                      reverse=True)\n",
    " \n",
    "def highcard(hand):\n",
    "    allfaces = [f for f,s in hand]\n",
    "    return 'High Card', sorted(allfaces,\n",
    "                               key=lambda f: face.index(f),\n",
    "                               reverse=True)\n",
    " \n",
    "handrankorder =  (straightflush, fourofakind, fullhouse,\n",
    "                  flush, straight, threeofakind,\n",
    "                  twopair, onepair, highcard)\n",
    " \n",
    "def rank(cards):\n",
    "    hand = handy(cards)\n",
    "    for ranker in handrankorder:\n",
    "        rank = ranker(hand)\n",
    "        if rank:\n",
    "            break\n",
    "    assert rank, \"Invalid: Failed to rank cards: %r\" % cards\n",
    "    return rank\n",
    " \n",
    "def handy(cards):\n",
    "    hand = []\n",
    "    for card in cards:\n",
    "        f, s = card[:-1], card[-1]\n",
    "        assert f in face, \"Invalid: Don't understand card face %r\" % f\n",
    "        assert s in suit, \"Invalid: Don't understand card suit %r\" % s\n",
    "        hand.append(Card(f, s))\n",
    "    assert len(hand) == 5, \"Invalid: Must be 5 cards in a hand, not %i\" % len(hand)\n",
    "    assert len(set(hand)) == 5, \"Invalid: All cards in the hand must be unique %r\" % cards\n",
    "    return hand\n",
    " \n",
    "category =[]\n",
    "tieBreaker=[]\n",
    "\n",
    "if __name__ == '__main__':\n",
    "    hands = [player1,player2,player3,player4,player5,player6,player7,player8,player9]\n",
    "    i=0; \n",
    "    print(\"%-18s %-15s %s\" % (\"HAND\", \"CATEGORY\", \"TIE-BREAKER\"))\n",
    "    for cards in hands:\n",
    "        i = i+1\n",
    "        r = rank(cards)\n",
    "        print(\"%-18r %-15s %r\" % (cards, r[0], r[1]))\n",
    "        category.append([\"player%s\"%i,r[0],r[1]])"
   ]
  },
  {
   "cell_type": "code",
   "execution_count": 476,
   "metadata": {
    "collapsed": false
   },
   "outputs": [
    {
     "name": "stdout",
     "output_type": "stream",
     "text": [
      "['player2', 'Two Pair', ['K', 'J', '9']]\n",
      "['player5', 'Two Pair', ['10', '5', '8']]\n",
      "['player6', 'Two Pair', ['5', '2', 'K']]\n",
      "['player7', 'Two Pair', ['A', '4', '6']]\n",
      "player7 is the winner\n"
     ]
    }
   ],
   "source": [
    "handrank = (\"Straight Flush\",\"Four of a Kind\", \"Full House\",\n",
    "                  \"Flush\", \"Straight\", \"Three of a Kind\",\n",
    "                  \"Two Pair\", \"One Pair\", \"High Card\")\n",
    "winner=''\n",
    "for i in handrank:\n",
    "    matching = [s for s in category if i in s]\n",
    "    if(len(matching)==0):\n",
    "        flag=0;\n",
    "    else:\n",
    "        flag=1;\n",
    "    high=0;\n",
    "    for j in matching:\n",
    "        print(j)\n",
    "    for k in matching:\n",
    "        #print(i)\n",
    "        num = (k[2][0])\n",
    "        #print(\"Num:\",num)\n",
    "        if(num is 'A'):\n",
    "            num = 14\n",
    "        elif(num is 'K'):\n",
    "            num = 13\n",
    "        elif(num is 'Q'):\n",
    "            num = 12\n",
    "        elif(num is 'J'):\n",
    "            num = 11\n",
    "        if(high < int(num)):\n",
    "            high = int(num)\n",
    "            #print(\"high:\",high)\n",
    "    \n",
    "    for a in matching:\n",
    "        #print(\"A:\",a[2][0])\n",
    "        if(a[2][0] is 'A'):\n",
    "            a[2][0] = 14\n",
    "        elif(a[2][0] is 'K'):\n",
    "            a[2][0] = 13\n",
    "        elif(a[2][0] is 'Q'):\n",
    "            a[2][0] = 12\n",
    "        elif(a[2][0] is 'J'):\n",
    "            a[2][0] = 11\n",
    "        if int(a[2][0]) == high:\n",
    "            print(a[0],\"is the winner\")\n",
    "            #print(\"print:\",a[0])\n",
    "        if(a[2][0] == 14):\n",
    "            a[2][0] = 'A'\n",
    "        elif(a[2][0] is 13):\n",
    "            a[2][0] = 'K'\n",
    "        elif(a[2][0] is 12):\n",
    "            a[2][0] = 'Q'\n",
    "        elif(a[2][0] is 11):\n",
    "            a[2][0] = 'J'\n",
    "        winner=a[0]\n",
    "    if flag == 1:\n",
    "        break;\n"
   ]
  },
  {
   "cell_type": "code",
   "execution_count": null,
   "metadata": {
    "collapsed": true
   },
   "outputs": [],
   "source": []
  },
  {
   "cell_type": "code",
   "execution_count": null,
   "metadata": {
    "collapsed": true
   },
   "outputs": [],
   "source": []
  }
 ],
 "metadata": {
  "anaconda-cloud": {},
  "kernelspec": {
   "display_name": "Python [Root]",
   "language": "python",
   "name": "Python [Root]"
  },
  "language_info": {
   "codemirror_mode": {
    "name": "ipython",
    "version": 3
   },
   "file_extension": ".py",
   "mimetype": "text/x-python",
   "name": "python",
   "nbconvert_exporter": "python",
   "pygments_lexer": "ipython3",
   "version": "3.5.2"
  }
 },
 "nbformat": 4,
 "nbformat_minor": 0
}
